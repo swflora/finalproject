{
  "nbformat": 4,
  "nbformat_minor": 0,
  "metadata": {
    "colab": {
      "provenance": [],
      "authorship_tag": "ABX9TyPdJCumjHgiICqi7T0P2+OC",
      "include_colab_link": true
    },
    "kernelspec": {
      "name": "python3",
      "display_name": "Python 3"
    },
    "language_info": {
      "name": "python"
    }
  },
  "cells": [
    {
      "cell_type": "markdown",
      "metadata": {
        "id": "view-in-github",
        "colab_type": "text"
      },
      "source": [
        "<a href=\"https://colab.research.google.com/github/swflora/finalproject/blob/main/%EA%B0%80%EC%83%81%EB%8D%B0%EC%9D%B4%ED%84%B0%EC%83%9D%EC%84%B1%ED%95%98%EA%B8%B0.ipynb\" target=\"_parent\"><img src=\"https://colab.research.google.com/assets/colab-badge.svg\" alt=\"Open In Colab\"/></a>"
      ]
    },
    {
      "cell_type": "code",
      "source": [
        "import random\n",
        "\n",
        "# 여성과 남성의 평균 신장 및 체중 데이터(자료 조사 필요)\n",
        "# https://kosis.kr/statHtml/statHtml.do?orgId=350&tblId=DT_35007_N130\n",
        "# 국가 통계 포털 2024년 03월 29일 갱신된 최신 자료 2022년 시도별 연령별 평균 시장 분포 현황 -> 국민건강보험공단\n",
        "female_avg_height = {20: 162, 30: 162, 40 : 161, 50 : 158, 60 : 155, 70 : 153, 80: 149 , 90: 149 } # 여성 평균 신장(cm)\n",
        "male_avg_height = {20 : 174, 30 : 175, 40 : 174, 50 : 171, 60 : 168, 70 : 166, 80 : 164, 90: 164} # 남성 평균 신장 (cm)\n",
        "\n",
        "#https://kosis.kr/statHtml/statHtml.do?orgId=350&tblId=DT_35007_N132&vw_cd=MT_ZTITLE&list_id=350_35007_A007&seqNo=&lang_mode=ko&language=kor&obj_var_id=&itm_id=&conn_path=MT_ZTITLE\n",
        "# 체중 통계도 있지만 평균 체중을 고려하는 것이 옳을지,,\n",
        "\n",
        "#https://kosis.kr/statHtml/statHtml.do?orgId=350&tblId=TX_35001_A003&vw_cd=MT_ZTITLE&list_id=350_35001_B&scrId=&seqNo=&lang_mode=ko&obj_var_id=&itm_id=&conn_path=MT_ZTITLE&path=%252FstatisticsList%252FstatisticsListIndex.do\n",
        "# 연령별 비만율을 고려해 체중을 설정하는 방법?\n",
        "\n",
        "# 성별과 나이에 따라 평균 신장을 반환하는 함수\n",
        "def get_avg_height(gender,age):\n",
        "  if gender == '여성':\n",
        "    avg_height = female_avg_height.get(age,165) # 해당 나이에 맞는 평균 신장이 없으면 165 기본값\n",
        "\n",
        "  else :\n",
        "    avg_height = male_avg_height.get(age,165)\n",
        "\n",
        "  return avg_height"
      ],
      "metadata": {
        "id": "9gxQku0_APrF"
      },
      "execution_count": 20,
      "outputs": []
    },
    {
      "cell_type": "code",
      "source": [
        "# 환자 ID 리스트\n",
        "used_ids = []\n",
        "\n",
        "# 환자 데이터 생성 함수\n",
        "def generate_patient_data():\n",
        "  while True :\n",
        "    patient_id = random.randint(1000,9999) # 환자 ID 생성\n",
        "    if patient_id not in used_ids: # 중복되지 않은 ID인지 확인\n",
        "      used_ids.append(patient_id)\n",
        "      break\n",
        "  gender = random.choice(['여성','남성'])\n",
        "  age = random.randint(20,100) # 나이 20세부터 100세까지로 설정\n",
        "  avg_height = get_avg_height(gender,age)\n",
        "  weight = random.randint(40,100)\n",
        "  height = random.randint(int(avg_height * 0.9), int(avg_height * 1.1))\n",
        "\n",
        "  return {'환자 ID' : patient_id, '성별': gender, '나이': age, '신장': height, '체중': weight}\n",
        "\n",
        "# 10명의 환자 정보 생성\n",
        "patients = [generate_patient_data() for _ in range(10)]\n",
        "\n",
        "# 결과 출력\n",
        "for patient in patients :\n",
        "  print(patient)\n"
      ],
      "metadata": {
        "colab": {
          "base_uri": "https://localhost:8080/"
        },
        "id": "6P0w5lG3HfYO",
        "outputId": "5352c3ba-c36f-42d3-b109-63a32e4268eb"
      },
      "execution_count": 19,
      "outputs": [
        {
          "output_type": "stream",
          "name": "stdout",
          "text": [
            "{'환자 ID': 5928, '성별': '남성', '나이': 69, '신장': 181, '체중': 91}\n",
            "{'환자 ID': 8690, '성별': '남성', '나이': 41, '신장': 151, '체중': 89}\n",
            "{'환자 ID': 8266, '성별': '남성', '나이': 49, '신장': 164, '체중': 84}\n",
            "{'환자 ID': 5538, '성별': '남성', '나이': 93, '신장': 175, '체중': 60}\n",
            "{'환자 ID': 8886, '성별': '여성', '나이': 93, '신장': 149, '체중': 76}\n",
            "{'환자 ID': 8146, '성별': '남성', '나이': 48, '신장': 168, '체중': 62}\n",
            "{'환자 ID': 6802, '성별': '남성', '나이': 48, '신장': 177, '체중': 52}\n",
            "{'환자 ID': 2664, '성별': '남성', '나이': 87, '신장': 150, '체중': 91}\n",
            "{'환자 ID': 1717, '성별': '여성', '나이': 29, '신장': 165, '체중': 64}\n",
            "{'환자 ID': 6461, '성별': '여성', '나이': 35, '신장': 166, '체중': 92}\n"
          ]
        }
      ]
    },
    {
      "cell_type": "code",
      "source": [
        "# 진단된 질병데이터\n",
        "\n",
        "# 1.\n",
        "# 국민건강영양조사 > 만성 질환\n",
        "# > 비만, 고혈압, 당뇨병, 이상지질혈증, 만성폐쇄성폐질환, 간염, 빈혈, 만성 콩팥병, 구강기능, 기타(뇌졸중, 천식, 알레르기 비염, 아토피피부염)\n",
        "# 연령별 진단 경험률 및 유병률 추이 통계를 바탕으로 확률값을 설정?\n",
        "\n",
        "# 2.\n",
        "# 건강검진통계 > 일반 건강검진, 암검진, 검사 항목별 성적\n",
        "# 연령별, 성별 검사 결과 통계 바탕으로 확률값을 설정?\n",
        "\n",
        "# 3.\n",
        "#\n",
        "#\n"
      ],
      "metadata": {
        "id": "EYngG6AqOghT"
      },
      "execution_count": 22,
      "outputs": []
    },
    {
      "cell_type": "markdown",
      "source": [
        "## 복용 중인 약물 데이터,,,,,,,\n",
        "## 진단된 질병, 치료받은 이력이 있는 질병데이터를 기반으로 추출해야 할 듯 보이나\n",
        "## 질병 데이터를 기반으로 추출하고자 한다면 의약품 데이터베이스에 특정 약물이 어떤 질병의 치료에 사용되는지에 대한 정보가 포함되어 있어야 할 것\n",
        "\n"
      ],
      "metadata": {
        "id": "93Px140iVUDJ"
      }
    },
    {
      "cell_type": "code",
      "source": [],
      "metadata": {
        "id": "s3nvMfscPC9g"
      },
      "execution_count": null,
      "outputs": []
    }
  ]
}