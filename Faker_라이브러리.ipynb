{
  "nbformat": 4,
  "nbformat_minor": 0,
  "metadata": {
    "colab": {
      "provenance": [],
      "authorship_tag": "ABX9TyPDSSwhQN4h71cBfBahJMb0",
      "include_colab_link": true
    },
    "kernelspec": {
      "name": "python3",
      "display_name": "Python 3"
    },
    "language_info": {
      "name": "python"
    }
  },
  "cells": [
    {
      "cell_type": "markdown",
      "metadata": {
        "id": "view-in-github",
        "colab_type": "text"
      },
      "source": [
        "<a href=\"https://colab.research.google.com/github/swflora/finalproject/blob/main/%08Faker_%EB%9D%BC%EC%9D%B4%EB%B8%8C%EB%9F%AC%EB%A6%AC.ipynb\" target=\"_parent\"><img src=\"https://colab.research.google.com/assets/colab-badge.svg\" alt=\"Open In Colab\"/></a>"
      ]
    },
    {
      "cell_type": "markdown",
      "source": [
        "## Faker는 Python에서 가상의 데이터를 생성하기 위한 라이브러리로 주로 테스트 데이터 생성이나 프로토타입 작성 등의 목적으로 사용된다.\n",
        "## Faker를 사용하면 이름, 주소, 전화번호, 이메일, 날짜 등과 같은 다양한 유형의 데이터를 쉽게 생성할 수 있고\n",
        "## 데이터를 무작위로 생성하고 로컬 기반 데이터를 생성하므로 국가과 언어에 맞는 실제 데이터를 사용하는 것과 유사한 효과를 얻을 수 있다.\n",
        "## 사용자가 데이터 형식을 커스터마이징할 수도 있다.\n",
        "\n",
        "## random함수를 사용하여 데이터를 생성하면 무작위성만 고려되고 실제 데이터와의 유사성이 부족할 수 있다.\n",
        "\n",
        "## https://faker.readthedocs.io/en/master/fakerclass.html#"
      ],
      "metadata": {
        "id": "5dNDDOwS0mqs"
      }
    },
    {
      "cell_type": "code",
      "source": [
        "pip install Faker"
      ],
      "metadata": {
        "colab": {
          "base_uri": "https://localhost:8080/"
        },
        "id": "ZcZ1z28p1dUO",
        "outputId": "373ee981-245f-4418-d17f-eb72a52f800e"
      },
      "execution_count": 1,
      "outputs": [
        {
          "output_type": "stream",
          "name": "stdout",
          "text": [
            "Collecting Faker\n",
            "  Downloading Faker-25.1.0-py3-none-any.whl (1.8 MB)\n",
            "\u001b[2K     \u001b[90m━━━━━━━━━━━━━━━━━━━━━━━━━━━━━━━━━━━━━━━━\u001b[0m \u001b[32m1.8/1.8 MB\u001b[0m \u001b[31m6.7 MB/s\u001b[0m eta \u001b[36m0:00:00\u001b[0m\n",
            "\u001b[?25hRequirement already satisfied: python-dateutil>=2.4 in /usr/local/lib/python3.10/dist-packages (from Faker) (2.8.2)\n",
            "Requirement already satisfied: six>=1.5 in /usr/local/lib/python3.10/dist-packages (from python-dateutil>=2.4->Faker) (1.16.0)\n",
            "Installing collected packages: Faker\n",
            "Successfully installed Faker-25.1.0\n"
          ]
        }
      ]
    },
    {
      "cell_type": "code",
      "source": [
        "from faker import Faker\n",
        "\n",
        "# 한국 로컬로 초기화\n",
        "fake = Faker('ko_KR')"
      ],
      "metadata": {
        "id": "mTQuBX0a1q-I"
      },
      "execution_count": 2,
      "outputs": []
    },
    {
      "cell_type": "code",
      "source": [
        "print(\"--------[address]\")\n",
        "for _ in range(5):\n",
        "  print(\"address      :\", fake.address())\n",
        "  print(\"city         :\", fake.city())\n",
        "  print(\"postcode     :\", fake.postcode())\n",
        "  print(\"\")"
      ],
      "metadata": {
        "colab": {
          "base_uri": "https://localhost:8080/"
        },
        "id": "fYjPew436Td5",
        "outputId": "ec84deb1-78b0-41c0-a6bf-19b68b986081"
      },
      "execution_count": 6,
      "outputs": [
        {
          "output_type": "stream",
          "name": "stdout",
          "text": [
            "--------[address]\n",
            "address      : 경기도 원주시 잠실238가\n",
            "city         : 고양시 일산서구\n",
            "postcode     : 22751\n",
            "\n",
            "address      : 부산광역시 강동구 서초중앙1길 (서연김읍)\n",
            "city         : 성남시 분당구\n",
            "postcode     : 74101\n",
            "\n",
            "address      : 대전광역시 중랑구 도산대1길\n",
            "city         : 용인시 수지구\n",
            "postcode     : 32784\n",
            "\n",
            "address      : 충청남도 안산시 상록구 서초중앙거리\n",
            "city         : 청주시 상당구\n",
            "postcode     : 36398\n",
            "\n",
            "address      : 광주광역시 강서구 백제고분594거리 (건우이한읍)\n",
            "city         : 천안시 서북구\n",
            "postcode     : 63614\n",
            "\n"
          ]
        }
      ]
    },
    {
      "cell_type": "code",
      "source": [
        "print(\"\\n--------- [job]\")\n",
        "for _ in range(5):\n",
        "  print(\"job      :\", fake.job())\n",
        "  print(\"\")"
      ],
      "metadata": {
        "colab": {
          "base_uri": "https://localhost:8080/"
        },
        "id": "S4swjS4g8to-",
        "outputId": "e507ac7e-09e7-436c-cf90-74d9d0410ffb"
      },
      "execution_count": 7,
      "outputs": [
        {
          "output_type": "stream",
          "name": "stdout",
          "text": [
            "\n",
            "--------- [job]\n",
            "job      : 응급구조사\n",
            "\n",
            "job      : 경량 철골공\n",
            "\n",
            "job      : 화물차 및 특수차 운전원\n",
            "\n",
            "job      : 재활용 처리 및 소각로 조작원\n",
            "\n",
            "job      : 신용 추심원\n",
            "\n"
          ]
        }
      ]
    },
    {
      "cell_type": "code",
      "source": [
        "print(\"\\n------ [person]\")\n",
        "for _ in range(5):\n",
        "  print(\"name             :\", fake.name())\n",
        "  print(\"name_female      :\", fake.name_female())\n",
        "  print(\"name_male        :\", fake.name_male())\n",
        "  print(\"\")"
      ],
      "metadata": {
        "colab": {
          "base_uri": "https://localhost:8080/"
        },
        "id": "MjwL35Xe85oL",
        "outputId": "063e8268-596d-43b4-aab0-33a48fab2e0f"
      },
      "execution_count": 10,
      "outputs": [
        {
          "output_type": "stream",
          "name": "stdout",
          "text": [
            "\n",
            "------ [person]\n",
            "name             : 김은영\n",
            "name_female      : 이아름\n",
            "name_male        : 박민수\n",
            "\n",
            "name             : 손정웅\n",
            "name_female      : 고경희\n",
            "name_male        : 이정식\n",
            "\n",
            "name             : 이지아\n",
            "name_female      : 김예지\n",
            "name_male        : 김우진\n",
            "\n",
            "name             : 이도윤\n",
            "name_female      : 김은영\n",
            "name_male        : 노건우\n",
            "\n",
            "name             : 최지민\n",
            "name_female      : 황윤서\n",
            "name_male        : 송종수\n",
            "\n"
          ]
        }
      ]
    },
    {
      "cell_type": "code",
      "source": [
        "print(\"\\n-------- [profile]\")\n",
        "for _ in range(5):\n",
        "  print(\"simple_profile     :\", fake.simple_profile())\n",
        "  print(\"\")\n",
        "  print(\"profile            :\", fake.profile())\n",
        "  print(\"\")"
      ],
      "metadata": {
        "colab": {
          "base_uri": "https://localhost:8080/"
        },
        "id": "bgLp2wVY9bJP",
        "outputId": "7d4a8a69-608a-4daf-8fb2-df795516282e"
      },
      "execution_count": 13,
      "outputs": [
        {
          "output_type": "stream",
          "name": "stdout",
          "text": [
            "\n",
            "-------- [profile]\n",
            "simple_profile     : {'username': 'ucoe', 'name': '심정훈', 'sex': 'M', 'address': '경상남도 동해시 반포대길 (현주김마을)', 'mail': 'migyeongo@hanmail.net', 'birthdate': datetime.date(1952, 9, 7)}\n",
            "\n",
            "profile            : {'job': '외선전공', 'company': '주식회사 김', 'ssn': '740200-1641045', 'residence': '인천광역시 금천구 서초대가', 'current_location': (Decimal('16.0403855'), Decimal('113.582668')), 'blood_group': 'O+', 'website': ['http://www.yuhanhoesa.com/', 'http://www.yu.kr/'], 'username': 'hgim', 'name': '서경희', 'sex': 'F', 'address': '서울특별시 강북구 서초대가', 'mail': 'ganggyeonghyi@live.com', 'birthdate': datetime.date(1955, 2, 19)}\n",
            "\n",
            "simple_profile     : {'username': 'bagyeongsun', 'name': '이승민', 'sex': 'M', 'address': '대구광역시 서구 개포9로 (서윤이이동)', 'mail': 'dgim@nate.com', 'birthdate': datetime.date(2007, 7, 15)}\n",
            "\n",
            "profile            : {'job': '방수공', 'company': '(유) 권', 'ssn': '080509-1899964', 'residence': '전라남도 과천시 선릉거리 (지아허마을)', 'current_location': (Decimal('-9.588799'), Decimal('39.319010')), 'blood_group': 'O-', 'website': ['https://yu.org/', 'https://yuhanhoesa.org/', 'http://yuhanhoesa.net/'], 'username': 'jgim', 'name': '권순옥', 'sex': 'F', 'address': '대전광역시 동구 봉은사거리 (동현김리)', 'mail': 'jojunyeong@live.com', 'birthdate': datetime.date(1967, 10, 10)}\n",
            "\n",
            "simple_profile     : {'username': 'sbag', 'name': '한미숙', 'sex': 'F', 'address': '경기도 과천시 가락38로 (현지최면)', 'mail': 'kgim@dreamwiz.com', 'birthdate': datetime.date(1989, 11, 25)}\n",
            "\n",
            "profile            : {'job': '제분 및 도정 관련 기계 조작원', 'company': '박김김', 'ssn': '120006-2429980', 'residence': '대전광역시 마포구 삼성길', 'current_location': (Decimal('-76.217460'), Decimal('-163.034249')), 'blood_group': 'AB-', 'website': ['https://www.namijang.org/', 'https://www.gimi.kr/', 'http://yunyungim.com/', 'http://ju.com/'], 'username': 'mjeong', 'name': '홍영일', 'sex': 'M', 'address': '대전광역시 노원구 선릉거리 (우진이백읍)', 'mail': 'sunjai@dreamwiz.com', 'birthdate': datetime.date(1973, 3, 21)}\n",
            "\n",
            "simple_profile     : {'username': 'imgyeongja', 'name': '박광수', 'sex': 'M', 'address': '경상북도 아산시 석촌호수로', 'mail': 'ryubyeongceol@hanmail.net', 'birthdate': datetime.date(1930, 10, 28)}\n",
            "\n",
            "profile            : {'job': '표백 및 염색 관련 조작원', 'company': '유한회사 윤', 'ssn': '740416-1183736', 'residence': '대구광역시 양천구 선릉26길', 'current_location': (Decimal('-24.4321055'), Decimal('-50.095494')), 'blood_group': 'B+', 'website': ['https://ryugimbag.org/'], 'username': 'dohyeonryu', 'name': '류민서', 'sex': 'F', 'address': '전라북도 연천군 선릉로 (성수박최면)', 'mail': 'migyeong40@dreamwiz.com', 'birthdate': datetime.date(1958, 1, 1)}\n",
            "\n",
            "simple_profile     : {'username': 'sanghyeon68', 'name': '박도윤', 'sex': 'M', 'address': '전라북도 음성군 압구정길', 'mail': 'lo@hanmail.net', 'birthdate': datetime.date(1995, 4, 12)}\n",
            "\n",
            "profile            : {'job': '유리제조 및 가공기 조작원', 'company': '문구', 'ssn': '420926-1298579', 'residence': '충청북도 단양군 서초중앙가', 'current_location': (Decimal('56.5610125'), Decimal('-163.713675')), 'blood_group': 'A-', 'website': ['http://yu.kr/'], 'username': 'yhan', 'name': '성영진', 'sex': 'M', 'address': '경기도 화천군 언주90로', 'mail': 'minsu16@hotmail.com', 'birthdate': datetime.date(1948, 11, 22)}\n",
            "\n"
          ]
        }
      ]
    },
    {
      "cell_type": "code",
      "source": [
        "print(\"\\n--------- [providers]\")\n",
        "for _ in range(5):\n",
        "  print(\"bothify            :\", fake.bothify(text = 'Product Number : ????-#######'))\n",
        "  print(\"random_choices     :\", fake.random_choices(elements = ('a','b','c','d','e','f')))\n",
        "  # length 지정\n",
        "  print(\"random_choices     :\", fake.random_choices(elements=('a','b','c','e','d','f'),length=2))\n",
        "\n",
        "  print(\"random_int         :\", fake.random_int(min = 0, max = 15))\n",
        "  # step(난수 사이 간격) 지정\n",
        "  print(\"random_int         :\", fake.random_int(min = 0, max = 15, step = 3))\n",
        "  print(\"\")"
      ],
      "metadata": {
        "colab": {
          "base_uri": "https://localhost:8080/"
        },
        "id": "fzvRHHsv9cMF",
        "outputId": "b2c4e2d8-34fa-4185-d63c-e5e8fe2bba37"
      },
      "execution_count": 17,
      "outputs": [
        {
          "output_type": "stream",
          "name": "stdout",
          "text": [
            "\n",
            "--------- [providers]\n",
            "bothify            : Product Number : sCtn-8018127\n",
            "random_choices     : ['c', 'e', 'd', 'd']\n",
            "random_choices     : ['a', 'c']\n",
            "random_int         : 14\n",
            "random_int         : 15\n",
            "\n",
            "bothify            : Product Number : QbXK-2486688\n",
            "random_choices     : ['c']\n",
            "random_choices     : ['a', 'a']\n",
            "random_int         : 8\n",
            "random_int         : 3\n",
            "\n",
            "bothify            : Product Number : ZAgm-3061726\n",
            "random_choices     : ['e', 'c', 'b']\n",
            "random_choices     : ['e', 'c']\n",
            "random_int         : 4\n",
            "random_int         : 9\n",
            "\n",
            "bothify            : Product Number : zEcA-1863253\n",
            "random_choices     : ['e', 'f', 'f', 'f', 'e']\n",
            "random_choices     : ['e', 'b']\n",
            "random_int         : 8\n",
            "random_int         : 12\n",
            "\n",
            "bothify            : Product Number : KIuY-8970192\n",
            "random_choices     : ['f', 'e']\n",
            "random_choices     : ['e', 'c']\n",
            "random_int         : 4\n",
            "random_int         : 15\n",
            "\n"
          ]
        }
      ]
    },
    {
      "cell_type": "code",
      "source": [],
      "metadata": {
        "colab": {
          "base_uri": "https://localhost:8080/"
        },
        "id": "7VtddBBkIYXQ",
        "outputId": "06ab283d-0b03-4c8e-f505-6e87dff67c70"
      },
      "execution_count": 20,
      "outputs": [
        {
          "output_type": "stream",
          "name": "stdout",
          "text": [
            "None\n"
          ]
        }
      ]
    }
  ]
}